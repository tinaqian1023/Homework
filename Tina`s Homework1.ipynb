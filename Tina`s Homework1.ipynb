{
 "cells": [
  {
   "cell_type": "code",
   "execution_count": 11,
   "id": "adeae9a2",
   "metadata": {},
   "outputs": [],
   "source": [
    "# Python variables and Constants"
   ]
  },
  {
   "cell_type": "code",
   "execution_count": 12,
   "id": "8304be9d",
   "metadata": {},
   "outputs": [
    {
     "name": "stdout",
     "output_type": "stream",
     "text": [
      "Tina Qian Tina Qian True\n",
      "First name: Tina\n",
      "Last name: Qian\n",
      "Full name: Tina Qian\n",
      "Is light on: True\n"
     ]
    }
   ],
   "source": [
    "first_name, last_name, full_name, is_light_on = 'Tina', 'Qian', 'Tina Qian', True\n",
    "print(first_name, last_name, full_name, is_light_on)\n",
    "print('First name:', first_name)\n",
    "print('Last name:', last_name)\n",
    "print('Full name:', full_name)\n",
    "print('Is light on:', is_light_on)"
   ]
  },
  {
   "cell_type": "code",
   "execution_count": 13,
   "id": "75a4a2e6",
   "metadata": {},
   "outputs": [
    {
     "name": "stdout",
     "output_type": "stream",
     "text": [
      "datatype of First name: <class 'str'>\n",
      "datatype of Last name: <class 'str'>\n",
      "datatype of Full name: <class 'str'>\n",
      "datatype of Is light on: <class 'bool'>\n"
     ]
    }
   ],
   "source": [
    "print('datatype of First name:',type(first_name))\n",
    "print('datatype of Last name:',type(last_name))\n",
    "print('datatype of Full name:',type(full_name))\n",
    "print('datatype of Is light on:',type(is_light_on))"
   ]
  },
  {
   "cell_type": "code",
   "execution_count": 14,
   "id": "fa93a974",
   "metadata": {},
   "outputs": [
    {
     "name": "stdout",
     "output_type": "stream",
     "text": [
      "4\n"
     ]
    }
   ],
   "source": [
    "print(len(first_name))"
   ]
  },
  {
   "cell_type": "code",
   "execution_count": 15,
   "id": "5d3a6ab0",
   "metadata": {},
   "outputs": [
    {
     "name": "stdout",
     "output_type": "stream",
     "text": [
      "False\n",
      "True\n",
      "False\n"
     ]
    }
   ],
   "source": [
    "len1 = len(first_name)\n",
    "len2 = len(last_name)\n",
    "print(len1<len2)\n",
    "print(len1==len2)\n",
    "print(len1>len2)"
   ]
  },
  {
   "cell_type": "code",
   "execution_count": 16,
   "id": "8a21b1b5",
   "metadata": {},
   "outputs": [
    {
     "name": "stdout",
     "output_type": "stream",
     "text": [
      "total: 10\n",
      "difference: 2\n",
      "product: 24\n",
      "division: 1.5\n",
      "remainder: (4, 6)\n",
      "exp: 1296\n",
      "floor_division: 1\n"
     ]
    }
   ],
   "source": [
    "num_1 = 6\n",
    "num_2 = 4\n",
    "total = num_1 + num_2\n",
    "difference = num_1 - num_2\n",
    "product = num_1*num_2\n",
    "division = num_1/num_2\n",
    "remainder = (num_2,num_1)\n",
    "exp = num_1**num_2\n",
    "floor_division = num_1//num_2\n",
    "print('total:', total)\n",
    "print('difference:', difference)\n",
    "print('product:', product)\n",
    "print('division:', division)\n",
    "print('remainder:', remainder)\n",
    "print('exp:', exp)\n",
    "print('floor_division:', floor_division)"
   ]
  },
  {
   "cell_type": "code",
   "execution_count": 17,
   "id": "1b8a9a62",
   "metadata": {},
   "outputs": [
    {
     "name": "stdout",
     "output_type": "stream",
     "text": [
      "输入r30\n",
      "area of circle: 2827.4333882308138\n"
     ]
    }
   ],
   "source": [
    "import math\n",
    "r = int(input('输入r'))\n",
    "area_of_circle = math.pi*r**2\n",
    "print('area of circle:', area_of_circle)"
   ]
  },
  {
   "cell_type": "code",
   "execution_count": 18,
   "id": "b5127bf4",
   "metadata": {},
   "outputs": [
    {
     "name": "stdout",
     "output_type": "stream",
     "text": [
      "输入r30\n",
      "circum of circle: 188.49555921538757\n"
     ]
    }
   ],
   "source": [
    "r = int(input('输入r'))\n",
    "circum_of_circle = math.pi*r*2\n",
    "print('circum of circle:', circum_of_circle)"
   ]
  },
  {
   "cell_type": "code",
   "execution_count": 19,
   "id": "edc43976",
   "metadata": {},
   "outputs": [
    {
     "name": "stdout",
     "output_type": "stream",
     "text": [
      "输入名字Tina\n",
      "输入姓氏Qian\n",
      "输入国家China\n",
      "输入年龄25\n",
      "first name: Tina\n",
      "last name: Qian\n",
      "country: China\n",
      "age: 25\n"
     ]
    }
   ],
   "source": [
    "first_name1 = input('输入名字')\n",
    "last_name1 = input('输入姓氏')\n",
    "country = input('输入国家')\n",
    "age = input('输入年龄')\n",
    "print('first name:', first_name1)\n",
    "print('last name:', last_name1)\n",
    "print('country:', country)\n",
    "print('age:', age)"
   ]
  },
  {
   "cell_type": "code",
   "execution_count": null,
   "id": "aea80ce7",
   "metadata": {},
   "outputs": [],
   "source": []
  }
 ],
 "metadata": {
  "kernelspec": {
   "display_name": "Python 3",
   "language": "python",
   "name": "python3"
  },
  "language_info": {
   "codemirror_mode": {
    "name": "ipython",
    "version": 3
   },
   "file_extension": ".py",
   "mimetype": "text/x-python",
   "name": "python",
   "nbconvert_exporter": "python",
   "pygments_lexer": "ipython3",
   "version": "3.8.8"
  }
 },
 "nbformat": 4,
 "nbformat_minor": 5
}
