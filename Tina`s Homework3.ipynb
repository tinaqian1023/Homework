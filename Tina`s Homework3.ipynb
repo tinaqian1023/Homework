{
 "cells": [
  {
   "cell_type": "code",
   "execution_count": 51,
   "id": "82471486",
   "metadata": {},
   "outputs": [
    {
     "name": "stdout",
     "output_type": "stream",
     "text": [
      "(['apple', 'banana', 'orange', 'watermelon'], ['potato', 'tomato', 'cucumber'])\n"
     ]
    }
   ],
   "source": [
    "fruits = ['apple','banana','orange','watermelon']\n",
    "vegetables = ['potato','tomato','cucumber']\n",
    "t = fruits , vegetables\n",
    "print(t)"
   ]
  },
  {
   "cell_type": "code",
   "execution_count": 52,
   "id": "373b45a8",
   "metadata": {},
   "outputs": [
    {
     "name": "stdout",
     "output_type": "stream",
     "text": [
      "(['apple', 'banana', 'orange', 'watermelon'], ['potato', 'tomato', 'cucumber'])\n"
     ]
    }
   ],
   "source": [
    "fruits_vegetables = t\n",
    "print(fruits_vegetables)"
   ]
  },
  {
   "cell_type": "code",
   "execution_count": 53,
   "id": "ef1d4fe0",
   "metadata": {},
   "outputs": [
    {
     "name": "stdout",
     "output_type": "stream",
     "text": [
      "7\n"
     ]
    }
   ],
   "source": [
    "number = len(fruits)+len(vegetables)\n",
    "print(number)"
   ]
  },
  {
   "cell_type": "code",
   "execution_count": 64,
   "id": "581a95e1",
   "metadata": {},
   "outputs": [
    {
     "name": "stdout",
     "output_type": "stream",
     "text": [
      "(['apple', 'cherry', 'orange', 'watermelon'], ['potato', 'tomato', 'lettuce'])\n",
      "('fragrant mushroom', 'Oyster mushroom', 'black tea', 'cola', 'milk', (['apple', 'cherry', 'orange', 'watermelon'], ['potato', 'tomato', 'lettuce']))\n"
     ]
    }
   ],
   "source": [
    "fruits_vegetables[0][1] = 'cherry'\n",
    "fruits_vegetables[1][2] = 'lettuce'\n",
    "food_tuple = 'fragrant mushroom','Oyster mushroom','black tea','cola','milk',fruits_vegetables\n",
    "print(fruits_vegetables)\n",
    "print(food_tuple)"
   ]
  },
  {
   "cell_type": "code",
   "execution_count": 66,
   "id": "8d46a169",
   "metadata": {},
   "outputs": [
    {
     "name": "stdout",
     "output_type": "stream",
     "text": [
      "mushroom :  ('fragrant mushroom', 'Oyster mushroom')\n",
      "berage :  ('black tea', 'cola', 'milk')\n",
      "fruits_vegetables :  (['apple', 'cherry', 'orange', 'watermelon'], ['potato', 'tomato', 'lettuce'])\n"
     ]
    }
   ],
   "source": [
    "mushroom=food_tuple[0],food_tuple[1]\n",
    "beverage=food_tuple[2],food_tuple[3],food_tuple[4]\n",
    "print('mushroom : ',mushroom)\n",
    "print('berage : ',beverage)\n",
    "print('fruits_vegetables : ',food_tuple[-1])"
   ]
  },
  {
   "cell_type": "code",
   "execution_count": 67,
   "id": "37b65ed6",
   "metadata": {},
   "outputs": [
    {
     "name": "stdout",
     "output_type": "stream",
     "text": [
      "['fragrant mushroom', 'Oyster mushroom', 'black tea', 'cola', 'milk', (['apple', 'cherry', 'orange', 'watermelon'], ['potato', 'tomato', 'lettuce'])] <class 'list'>\n"
     ]
    }
   ],
   "source": [
    "food_list = list(food_tuple)\n",
    "print(food_list, type(food_list))"
   ]
  },
  {
   "cell_type": "code",
   "execution_count": 71,
   "id": "58526da1",
   "metadata": {},
   "outputs": [
    {
     "name": "stdout",
     "output_type": "stream",
     "text": [
      "['fragrant mushroom', 'Oyster mushroom', (['apple', 'cherry', 'orange', 'watermelon'], ['potato', 'tomato', 'lettuce'])]\n"
     ]
    }
   ],
   "source": [
    "del food_list[2]\n",
    "print(food_list)"
   ]
  },
  {
   "cell_type": "code",
   "execution_count": 69,
   "id": "bd9dfe03",
   "metadata": {},
   "outputs": [
    {
     "name": "stdout",
     "output_type": "stream",
     "text": [
      "['fragrant mushroom', 'Oyster mushroom', 'cola']\n",
      "['cola', 'milk', (['apple', 'cherry', 'orange', 'watermelon'], ['potato', 'tomato', 'lettuce'])]\n"
     ]
    }
   ],
   "source": [
    "print(food_list[0:3])\n",
    "print(food_list[-3:])"
   ]
  },
  {
   "cell_type": "code",
   "execution_count": 72,
   "id": "841e89ff",
   "metadata": {},
   "outputs": [
    {
     "ename": "NameError",
     "evalue": "name 'food_tuple' is not defined",
     "output_type": "error",
     "traceback": [
      "\u001b[1;31m---------------------------------------------------------------------------\u001b[0m",
      "\u001b[1;31mNameError\u001b[0m                                 Traceback (most recent call last)",
      "\u001b[1;32m<ipython-input-72-2a56d3f7eb2c>\u001b[0m in \u001b[0;36m<module>\u001b[1;34m\u001b[0m\n\u001b[0;32m      1\u001b[0m \u001b[1;32mdel\u001b[0m \u001b[0mfood_tuple\u001b[0m\u001b[1;33m\u001b[0m\u001b[1;33m\u001b[0m\u001b[0m\n\u001b[1;32m----> 2\u001b[1;33m \u001b[0mprint\u001b[0m\u001b[1;33m(\u001b[0m\u001b[0mfood_tuple\u001b[0m\u001b[1;33m)\u001b[0m\u001b[1;33m\u001b[0m\u001b[1;33m\u001b[0m\u001b[0m\n\u001b[0m",
      "\u001b[1;31mNameError\u001b[0m: name 'food_tuple' is not defined"
     ]
    }
   ],
   "source": [
    "del food_tuple\n",
    "print(food_tuple)"
   ]
  },
  {
   "cell_type": "code",
   "execution_count": 73,
   "id": "b8e401b6",
   "metadata": {},
   "outputs": [
    {
     "name": "stdout",
     "output_type": "stream",
     "text": [
      "False\n",
      "True\n"
     ]
    }
   ],
   "source": [
    "asian_countries = ('India','China','Singapore','Thailand','Indonesia')\n",
    "print('Finland' in asian_countries)\n",
    "print('India' in asian_countries)"
   ]
  },
  {
   "cell_type": "code",
   "execution_count": null,
   "id": "a778c26c",
   "metadata": {},
   "outputs": [],
   "source": []
  }
 ],
 "metadata": {
  "kernelspec": {
   "display_name": "Python 3",
   "language": "python",
   "name": "python3"
  },
  "language_info": {
   "codemirror_mode": {
    "name": "ipython",
    "version": 3
   },
   "file_extension": ".py",
   "mimetype": "text/x-python",
   "name": "python",
   "nbconvert_exporter": "python",
   "pygments_lexer": "ipython3",
   "version": "3.8.8"
  }
 },
 "nbformat": 4,
 "nbformat_minor": 5
}
