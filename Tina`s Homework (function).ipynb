{
 "cells": [
  {
   "cell_type": "code",
   "execution_count": 26,
   "id": "fe358b0c",
   "metadata": {},
   "outputs": [
    {
     "name": "stdout",
     "output_type": "stream",
     "text": [
      "Area : 78.5\n",
      "Perimeter : 31.400000000000002\n"
     ]
    }
   ],
   "source": [
    "def circle(r):\n",
    "    pi = 3.14\n",
    "    area = pi*(r**2)\n",
    "    perimeter = 2*r*pi\n",
    "    return area, perimeter\n",
    "a, b = circle(5)\n",
    "print('Area :',a)\n",
    "print('Perimeter :',b)"
   ]
  },
  {
   "cell_type": "code",
   "execution_count": 106,
   "id": "009f3532",
   "metadata": {},
   "outputs": [
    {
     "name": "stdout",
     "output_type": "stream",
     "text": [
      "6\n",
      "8\n",
      "1\n",
      "51\n",
      "66\n"
     ]
    }
   ],
   "source": [
    "def add_all_nums(list1):\n",
    "    sum = 0\n",
    "    for n in list1:\n",
    "        if type(n)==int:\n",
    "            sum=sum+n\n",
    "            print(n)\n",
    "        else:\n",
    "            print('false')\n",
    "    return sum\n",
    "print(add_all_nums([6,8,1,51]))"
   ]
  },
  {
   "cell_type": "code",
   "execution_count": 42,
   "id": "2c2d2952",
   "metadata": {},
   "outputs": [
    {
     "name": "stdout",
     "output_type": "stream",
     "text": [
      "30\n",
      "30  °C to  86.0 °F\n"
     ]
    }
   ],
   "source": [
    "C = input()\n",
    "def convert_celsius_2_fahrenheit(C):\n",
    "    F = (int(C)*9/5) + 32\n",
    "    return F\n",
    "print(C,' °C to ',convert_celsius_2_fahrenheit(C),'°F')"
   ]
  },
  {
   "cell_type": "code",
   "execution_count": 20,
   "id": "372888ba",
   "metadata": {},
   "outputs": [
    {
     "name": "stdout",
     "output_type": "stream",
     "text": [
      "5\n",
      "The season is Spring\n",
      "None\n"
     ]
    }
   ],
   "source": [
    "month = input()\n",
    "def check_season(month):\n",
    "    if month in['9','10','11']:\n",
    "        print('The season is Autumn')\n",
    "    elif month in['12','1','2']:\n",
    "        print('The season is Winter ')\n",
    "    elif month in['3','4','5']:\n",
    "        print('The season is Spring')\n",
    "    elif month in['6','7','8']:\n",
    "        print('The season is Summer')\n",
    "    else:\n",
    "        print('Eorror')\n",
    "    return None\n",
    "print(check_season(month))"
   ]
  },
  {
   "cell_type": "code",
   "execution_count": 30,
   "id": "9d8b655c",
   "metadata": {},
   "outputs": [
    {
     "name": "stdout",
     "output_type": "stream",
     "text": [
      "x1=4\n",
      "x2=6\n",
      "The slope is 3.0\n"
     ]
    }
   ],
   "source": [
    "list1=[int(input('x1=',)),int(input('x2=',))]\n",
    "def calculate_slope(x):\n",
    "    for x in list1:\n",
    "        x1=int(list1[0])\n",
    "        x2=list1[1]\n",
    "        y1=3*x1+4.3\n",
    "        y2=3*x2+4.3\n",
    "        k=(y2-y1)/(x2-x1)\n",
    "    return k\n",
    "print('The slope is',calculate_slope(x))"
   ]
  },
  {
   "cell_type": "code",
   "execution_count": 39,
   "id": "2c58bd8a",
   "metadata": {},
   "outputs": [
    {
     "name": "stdout",
     "output_type": "stream",
     "text": [
      "a=2\n",
      "b=6\n",
      "c=-2\n",
      "x1= 0.30277563773199456   x2= -3.302775637731995\n",
      "None\n"
     ]
    }
   ],
   "source": [
    "import math\n",
    "a=float(input('a=',))\n",
    "b=float(input('b=',))\n",
    "c=float(input('c=',))\n",
    "def solve_quadratic_eqn(x):\n",
    "    x=x1=(-b + math.sqrt(b**2-4*a*c))/(2*a)\n",
    "    x=x2=(-b - math.sqrt(b**2-4*a*c))/(2*a)\n",
    "    print('x1=',x1,' ','x2=',x2)\n",
    "    return None\n",
    "print(solve_quadratic_eqn(x))"
   ]
  },
  {
   "cell_type": "code",
   "execution_count": 59,
   "id": "9879ed97",
   "metadata": {},
   "outputs": [
    {
     "name": "stdout",
     "output_type": "stream",
     "text": [
      "[0, 1, 2, 3, 4, 5, 6, 7, 8, 9, 10, 11, 12, 13, 14, 15]\n"
     ]
    }
   ],
   "source": [
    "def print_list(list2):\n",
    "    a=[]\n",
    "    for i in list3:\n",
    "        a.append(i)\n",
    "    return a\n",
    "a=print_list(list(range(15)))\n",
    "print(a)"
   ]
  },
  {
   "cell_type": "code",
   "execution_count": 68,
   "id": "6dc8d994",
   "metadata": {},
   "outputs": [
    {
     "name": "stdout",
     "output_type": "stream",
     "text": [
      "[5, 4, 3, 2, 1]\n",
      "['C', 'B', 'A']\n"
     ]
    }
   ],
   "source": [
    "def reverse_list(list3):\n",
    "    a=[]\n",
    "    for i in reversed(list3):\n",
    "        a.append(i)\n",
    "    return a\n",
    "print(reverse_list([1,2,3,4,5]))\n",
    "print(reverse_list(['A','B','C']))"
   ]
  },
  {
   "cell_type": "code",
   "execution_count": 67,
   "id": "04c13a08",
   "metadata": {},
   "outputs": [
    {
     "name": "stdout",
     "output_type": "stream",
     "text": [
      "['C', 'B', 'A']\n"
     ]
    }
   ],
   "source": [
    "def reverse_list1(list3):\n",
    "    a=[]\n",
    "    for i in reversed(list3):\n",
    "        a.append(i)\n",
    "    return a\n",
    "print(reverse_list1([ \"A\",\"B\",\"C\"]))"
   ]
  },
  {
   "cell_type": "code",
   "execution_count": 79,
   "id": "91500d33",
   "metadata": {},
   "outputs": [
    {
     "name": "stdout",
     "output_type": "stream",
     "text": [
      "['BEIJING', 'TOKYO', 'LONDON', 'OTTAWA']\n"
     ]
    }
   ],
   "source": [
    "def capitalize_list_items(capital):\n",
    "    CAPITAL=[]\n",
    "    for i in capital:\n",
    "        CAPITAL.append(i.upper())\n",
    "    return CAPITAL\n",
    "print(capitalize_list_items(['beijing','tokyo','London','Ottawa']))"
   ]
  },
  {
   "cell_type": "code",
   "execution_count": 80,
   "id": "cd8de7c2",
   "metadata": {},
   "outputs": [
    {
     "name": "stdout",
     "output_type": "stream",
     "text": [
      "['Potato', 'Tomato', 'Mango', 'Milk', 'Fungi']\n"
     ]
    }
   ],
   "source": [
    "food_staff = ['Potato', 'Tomato', 'Mango', 'Milk']\n",
    "def add_item(food_staff,a):\n",
    "    food_staff.append(a)\n",
    "    return food_staff\n",
    "print(add_item(food_staff,'Fungi'))"
   ]
  },
  {
   "cell_type": "code",
   "execution_count": 81,
   "id": "c39aa8d4",
   "metadata": {},
   "outputs": [
    {
     "name": "stdout",
     "output_type": "stream",
     "text": [
      "[2, 3, 7, 9, 5]\n"
     ]
    }
   ],
   "source": [
    "numbers = [2, 3, 7, 9]\n",
    "def add_item(numbers,a):\n",
    "    numbers.append(a)\n",
    "    return numbers\n",
    "print(add_item(numbers,5))"
   ]
  },
  {
   "cell_type": "code",
   "execution_count": 84,
   "id": "4aec35df",
   "metadata": {},
   "outputs": [
    {
     "name": "stdout",
     "output_type": "stream",
     "text": [
      "['Potato', 'Tomato', 'Milk']\n"
     ]
    }
   ],
   "source": [
    "food_staff = ['Potato', 'Tomato', 'Mango', 'Milk']\n",
    "def remove_item(food_staff,a):\n",
    "    food_staff.remove(a)\n",
    "    return food_staff\n",
    "print(remove_item(food_staff,'Mango'))"
   ]
  },
  {
   "cell_type": "code",
   "execution_count": 85,
   "id": "36d5c729",
   "metadata": {},
   "outputs": [
    {
     "name": "stdout",
     "output_type": "stream",
     "text": [
      "[2, 7, 9]\n"
     ]
    }
   ],
   "source": [
    "numbers = [2, 3, 7, 9]\n",
    "def remove_item(numbers,a):\n",
    "    numbers.remove(a)\n",
    "    return numbers\n",
    "print(remove_item(numbers,3))"
   ]
  },
  {
   "cell_type": "code",
   "execution_count": 95,
   "id": "bcc1999d",
   "metadata": {},
   "outputs": [
    {
     "name": "stdout",
     "output_type": "stream",
     "text": [
      "15\n",
      "55\n",
      "5050\n"
     ]
    }
   ],
   "source": [
    "def sum_of_numbers(a):\n",
    "    sum=0\n",
    "    for i in range(a+1):\n",
    "        sum=sum+i\n",
    "    return sum\n",
    "print(sum_of_numbers(5))\n",
    "print(sum_of_numbers(10))\n",
    "print(sum_of_numbers(100))"
   ]
  },
  {
   "cell_type": "code",
   "execution_count": 97,
   "id": "d4ca8236",
   "metadata": {},
   "outputs": [
    {
     "name": "stdout",
     "output_type": "stream",
     "text": [
      "The number is 12\n",
      "1\n",
      "3\n",
      "5\n",
      "7\n",
      "9\n",
      "11\n",
      "sum of odds is 36\n"
     ]
    }
   ],
   "source": [
    "a=int(input('The number is ',))\n",
    "def sum_of_odds(a):\n",
    "    sum=0\n",
    "    for i in range(a):\n",
    "        if i%2==0:\n",
    "            continue\n",
    "        else:\n",
    "            sum=sum+i\n",
    "            print(i)\n",
    "    return sum\n",
    "print('sum of odds is',sum_of_odds(a))"
   ]
  },
  {
   "cell_type": "code",
   "execution_count": 103,
   "id": "470e3013",
   "metadata": {},
   "outputs": [
    {
     "name": "stdout",
     "output_type": "stream",
     "text": [
      "The number is 12\n",
      "0\n",
      "2\n",
      "4\n",
      "6\n",
      "8\n",
      "10\n",
      "sum of even is 30\n"
     ]
    }
   ],
   "source": [
    "a=int(input('The number is ',))\n",
    "def sum_of_even(a):\n",
    "    sum=0\n",
    "    for i in range(a):\n",
    "        if i%2 == 0:\n",
    "            sum=sum+i\n",
    "            print(i)\n",
    "        else:\n",
    "            continue\n",
    "    return sum\n",
    "print('sum of even is',sum_of_even(a))"
   ]
  },
  {
   "cell_type": "code",
   "execution_count": 107,
   "id": "6b2ac900",
   "metadata": {},
   "outputs": [
    {
     "name": "stdout",
     "output_type": "stream",
     "text": [
      "The number of odds are  50\n",
      "The number of evens are  51\n"
     ]
    }
   ],
   "source": [
    "def odds_and_evens(a):\n",
    "    odds=0\n",
    "    evens=0\n",
    "    for i in range(a+1):\n",
    "        if i%2!=0:\n",
    "            odds+=1\n",
    "        else:\n",
    "            evens+=1\n",
    "    return odds,evens\n",
    "odds,evens=odds_and_evens(100)\n",
    "print('The number of odds are ',odds)\n",
    "print('The number of evens are ',evens)"
   ]
  },
  {
   "cell_type": "code",
   "execution_count": 109,
   "id": "7fb60c75",
   "metadata": {},
   "outputs": [
    {
     "name": "stdout",
     "output_type": "stream",
     "text": [
      "3628800\n"
     ]
    }
   ],
   "source": [
    "def factorial(a):\n",
    "    num=1\n",
    "    for i in range(2,a+1):\n",
    "        num=num*i\n",
    "    return num\n",
    "print(factorial(10))"
   ]
  },
  {
   "cell_type": "code",
   "execution_count": 13,
   "id": "a8998a25",
   "metadata": {},
   "outputs": [
    {
     "name": "stdout",
     "output_type": "stream",
     "text": [
      "The parameter is not empty [2, 3]\n",
      "False\n",
      "The parameter is empty\n",
      "True\n"
     ]
    }
   ],
   "source": [
    "def is_empty(a):\n",
    "    if len(a)==0:\n",
    "        print('The parameter is empty')\n",
    "        return True\n",
    "    else:\n",
    "        print('The parameter is not empty',a)\n",
    "    return False\n",
    "print(is_empty([2,3]))\n",
    "print(is_empty(()))"
   ]
  },
  {
   "cell_type": "code",
   "execution_count": 16,
   "id": "4728ffc8",
   "metadata": {},
   "outputs": [
    {
     "name": "stdout",
     "output_type": "stream",
     "text": [
      "The mean is  6.0\n"
     ]
    }
   ],
   "source": [
    "def calculate_mean(a):\n",
    "    total = 0\n",
    "    for i in a:\n",
    "        total+=i\n",
    "        mean = total/len(a)\n",
    "    return mean\n",
    "print('The mean is ',calculate_mean([2,5,6,11]))"
   ]
  },
  {
   "cell_type": "code",
   "execution_count": 27,
   "id": "ba4cd27e",
   "metadata": {},
   "outputs": [
    {
     "name": "stdout",
     "output_type": "stream",
     "text": [
      "[3, 4, 5, 6, 8]\n",
      "The median is  5\n",
      "[3, 6, 7, 9, 10, 24]\n",
      "The median is  8.0\n"
     ]
    }
   ],
   "source": [
    "def calculate_median(a):\n",
    "    b=sorted(a)\n",
    "    c=len(b)\n",
    "    if c%2==1:\n",
    "        median = b[int(c/2)]\n",
    "        print(b)\n",
    "    else:\n",
    "        median = (b[int(c/2)] + b[int(c/2-1)])/2\n",
    "        print(b)\n",
    "    return median\n",
    "print('The median is ',calculate_median([8,6,3,4,5]),)\n",
    "print('The median is ',calculate_median([9,6,3,7,10,24]))"
   ]
  },
  {
   "cell_type": "code",
   "execution_count": 57,
   "id": "610a2865",
   "metadata": {},
   "outputs": [
    {
     "name": "stdout",
     "output_type": "stream",
     "text": [
      "The mode is [3]\n"
     ]
    }
   ],
   "source": [
    "def calculate_mode(a):\n",
    "    seta=set(a)\n",
    "    dicta={}\n",
    "    for i in seta:\n",
    "        dicta[i]=a.count(i)\n",
    "    b=[]\n",
    "    for key,value in dicta.items():\n",
    "        if value==max(dicta.values()):\n",
    "            b.append(key)\n",
    "    return b\n",
    "print('The mode is',calculate_mode([1,3,3,6,2,4,2,3])) "
   ]
  },
  {
   "cell_type": "code",
   "execution_count": 38,
   "id": "b1993fc0",
   "metadata": {},
   "outputs": [
    {
     "name": "stdout",
     "output_type": "stream",
     "text": [
      "[1, 3, 5, 6, 8, 11, 20]\n"
     ]
    }
   ],
   "source": [
    "def calculate_range(a):\n",
    "    d=sorted(a)\n",
    "    return d\n",
    "print(calculate_range([5,3,6,20,8,1,11]))"
   ]
  },
  {
   "cell_type": "code",
   "execution_count": 59,
   "id": "c61d3799",
   "metadata": {},
   "outputs": [
    {
     "name": "stdout",
     "output_type": "stream",
     "text": [
      "The variance is  10.472222222222221\n"
     ]
    }
   ],
   "source": [
    "def calculate_variance(a):\n",
    "    total1=0.0\n",
    "    total2=0.0\n",
    "    for i in a:\n",
    "        total1+=i\n",
    "        avg=total1/len(a)\n",
    "    for j in a:\n",
    "        total2+=(j-avg)**2\n",
    "        var=float(total2/len(a))\n",
    "    return var\n",
    "print('The variance is ',calculate_variance([6,2,5,3,7,12]))"
   ]
  },
  {
   "cell_type": "code",
   "execution_count": 62,
   "id": "2e6d19e6",
   "metadata": {},
   "outputs": [
    {
     "name": "stdout",
     "output_type": "stream",
     "text": [
      "The std is  23.893281249943236\n"
     ]
    }
   ],
   "source": [
    "import math\n",
    "def calculate_std(a):\n",
    "    total1=0.0\n",
    "    total2=0.0\n",
    "    for i in a:\n",
    "        total1+=i\n",
    "        avg=total1/len(a)\n",
    "    for j in a:\n",
    "        total2+=(j-avg)**2\n",
    "        var=float(total2/len(a))\n",
    "        std=math.sqrt(var)\n",
    "    return std\n",
    "print('The std is ',calculate_std([4,10,3,26,8,71]))"
   ]
  },
  {
   "cell_type": "code",
   "execution_count": 82,
   "id": "04a1f8a1",
   "metadata": {},
   "outputs": [
    {
     "name": "stdout",
     "output_type": "stream",
     "text": [
      "31 is prime\n",
      "20  is not prime\n"
     ]
    }
   ],
   "source": [
    "def is_prime(x):\n",
    "    for i in range(2, x):\n",
    "        if x % i == 0:\n",
    "            print(x,' is not prime')\n",
    "            break\n",
    "        else:\n",
    "            print(x,'is prime')\n",
    "            break\n",
    "    return None\n",
    "is_prime(31)\n",
    "is_prime(20)"
   ]
  },
  {
   "cell_type": "code",
   "execution_count": 86,
   "id": "0b98224f",
   "metadata": {},
   "outputs": [
    {
     "name": "stdout",
     "output_type": "stream",
     "text": [
      "check unique: False\n",
      "check unique: True\n"
     ]
    }
   ],
   "source": [
    "def check_unique(a):\n",
    "    b=set(a)\n",
    "    if len(b)==len(a):\n",
    "        print('check unique: True')\n",
    "    else:\n",
    "        print('check unique: False')\n",
    "    return None\n",
    "check_unique([1,2,2,6,8,7])\n",
    "check_unique([2,6,8,4,11])"
   ]
  },
  {
   "cell_type": "code",
   "execution_count": 1,
   "id": "18d130b2",
   "metadata": {},
   "outputs": [
    {
     "name": "stdout",
     "output_type": "stream",
     "text": [
      "[<class 'int'>, <class 'float'>, <class 'str'>, <class 'int'>]\n",
      "False\n"
     ]
    }
   ],
   "source": [
    "b=[]\n",
    "def check_type(a):\n",
    "    for i in a:\n",
    "        b.append(type(i))\n",
    "        if i == a[-1]:\n",
    "            print(b)\n",
    "    if len(b)==len(set(b)):\n",
    "        print('True')\n",
    "    else:\n",
    "        print('False')\n",
    "    return None\n",
    "check_type([1,2.1,'cat',3])"
   ]
  },
  {
   "cell_type": "code",
   "execution_count": 36,
   "id": "77c4582b",
   "metadata": {},
   "outputs": [
    {
     "name": "stdout",
     "output_type": "stream",
     "text": [
      "dog1 True\n",
      "dog1 True\n",
      "dog1 True\n",
      "1hair False\n",
      "_ap*ple True\n",
      "_ap*ple True\n",
      "_ap*ple False\n"
     ]
    }
   ],
   "source": [
    "j=[]\n",
    "def check_variable(a):\n",
    "    if a[0]=='_' or a[0].isalpha():\n",
    "        for i in a[1:]:\n",
    "            if not(i=='_'or i.isalnum()):\n",
    "                print(a,'False')\n",
    "                break\n",
    "            else:\n",
    "                print(a,'True')\n",
    "    else:\n",
    "        print(a,'False')\n",
    "    return None\n",
    "check_variable('dog1')\n",
    "check_variable('1hair')\n",
    "check_variable('_ap*ple')"
   ]
  },
  {
   "cell_type": "code",
   "execution_count": null,
   "id": "63018628",
   "metadata": {},
   "outputs": [],
   "source": []
  },
  {
   "cell_type": "code",
   "execution_count": null,
   "id": "755ade97",
   "metadata": {},
   "outputs": [],
   "source": []
  }
 ],
 "metadata": {
  "kernelspec": {
   "display_name": "Python 3",
   "language": "python",
   "name": "python3"
  },
  "language_info": {
   "codemirror_mode": {
    "name": "ipython",
    "version": 3
   },
   "file_extension": ".py",
   "mimetype": "text/x-python",
   "name": "python",
   "nbconvert_exporter": "python",
   "pygments_lexer": "ipython3",
   "version": "3.8.8"
  }
 },
 "nbformat": 4,
 "nbformat_minor": 5
}
