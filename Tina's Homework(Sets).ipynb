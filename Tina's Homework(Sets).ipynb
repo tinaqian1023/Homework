{
 "cells": [
  {
   "cell_type": "code",
   "execution_count": 27,
   "id": "5829603a",
   "metadata": {},
   "outputs": [
    {
     "name": "stdout",
     "output_type": "stream",
     "text": [
      "mix_fruits =  {'Pear', 'Orange', 'Fig', 'Guava', 'Banana', 'Mango', 'Apple'} <class 'set'>\n",
      "A =  {19, 20, 22, 24, 25, 26} <class 'set'>\n",
      "B =  {19, 20, 22, 24, 25, 26, 27, 28} <class 'set'>\n",
      "num =  [22, 19, 24, 25, 26, 24, 25, 24] <class 'list'>\n"
     ]
    }
   ],
   "source": [
    "\n",
    "\n",
    "\n",
    "print('mix_fruits = ', mix_fruits, type(mix_fruits))\n",
    "print('A = ', A, type(A))\n",
    "print('B = ', B, type(B))\n",
    "print('num = ', num, type(num))"
   ]
  },
  {
   "cell_type": "code",
   "execution_count": 28,
   "id": "54647a61",
   "metadata": {},
   "outputs": [
    {
     "name": "stdout",
     "output_type": "stream",
     "text": [
      "7\n"
     ]
    }
   ],
   "source": [
    "mix_fruits = {'Guava', 'Pear', 'Mango', 'Apple', 'Fig', 'Orange', 'Banana'}\n",
    "print(len(mix_fruits))"
   ]
  },
  {
   "cell_type": "code",
   "execution_count": 29,
   "id": "18193c3e",
   "metadata": {},
   "outputs": [
    {
     "name": "stdout",
     "output_type": "stream",
     "text": [
      "{'Pear', 'Orange', 'Fig', 'Guava', 'Banana', 'Kiwi', 'Mango', 'Apple'}\n"
     ]
    }
   ],
   "source": [
    "mix_fruits.add('Kiwi')\n",
    "print(mix_fruits)"
   ]
  },
  {
   "cell_type": "code",
   "execution_count": 30,
   "id": "da64003b",
   "metadata": {},
   "outputs": [
    {
     "name": "stdout",
     "output_type": "stream",
     "text": [
      "{'Pear', 'Orange', 'Grape', 'Cherry', 'Fig', 'Guava', 'Banana', 'Kiwi', 'Malon', 'Mango', 'Apple'}\n"
     ]
    }
   ],
   "source": [
    "mix_fruits.update(['Malon', 'Grape', 'Cherry'])\n",
    "print(mix_fruits)"
   ]
  },
  {
   "cell_type": "code",
   "execution_count": 31,
   "id": "f17e000d",
   "metadata": {},
   "outputs": [
    {
     "name": "stdout",
     "output_type": "stream",
     "text": [
      "{'Pear', 'Orange', 'Grape', 'Cherry', 'Guava', 'Banana', 'Kiwi', 'Malon', 'Mango', 'Apple'}\n"
     ]
    }
   ],
   "source": [
    "mix_fruits.remove('Fig')\n",
    "print(mix_fruits)"
   ]
  },
  {
   "cell_type": "code",
   "execution_count": 32,
   "id": "58d9548f",
   "metadata": {},
   "outputs": [
    {
     "name": "stdout",
     "output_type": "stream",
     "text": [
      "{'Pear', 'Orange', 'Grape', 'Cherry', 'Guava', 'Banana', 'Kiwi', 'Malon', 'Mango', 'Apple'}\n"
     ]
    },
    {
     "ename": "KeyError",
     "evalue": "'Fig'",
     "output_type": "error",
     "traceback": [
      "\u001b[1;31m---------------------------------------------------------------------------\u001b[0m",
      "\u001b[1;31mKeyError\u001b[0m                                  Traceback (most recent call last)",
      "\u001b[1;32m<ipython-input-32-e84208fdf7b7>\u001b[0m in \u001b[0;36m<module>\u001b[1;34m\u001b[0m\n\u001b[0;32m      1\u001b[0m \u001b[0mmix_fruits\u001b[0m\u001b[1;33m.\u001b[0m\u001b[0mdiscard\u001b[0m\u001b[1;33m(\u001b[0m\u001b[1;34m'Fig'\u001b[0m\u001b[1;33m)\u001b[0m\u001b[1;33m\u001b[0m\u001b[1;33m\u001b[0m\u001b[0m\n\u001b[0;32m      2\u001b[0m \u001b[0mprint\u001b[0m\u001b[1;33m(\u001b[0m\u001b[0mmix_fruits\u001b[0m\u001b[1;33m)\u001b[0m\u001b[1;33m\u001b[0m\u001b[1;33m\u001b[0m\u001b[0m\n\u001b[1;32m----> 3\u001b[1;33m \u001b[0mmix_fruits\u001b[0m\u001b[1;33m.\u001b[0m\u001b[0mremove\u001b[0m\u001b[1;33m(\u001b[0m\u001b[1;34m'Fig'\u001b[0m\u001b[1;33m)\u001b[0m\u001b[1;33m\u001b[0m\u001b[1;33m\u001b[0m\u001b[0m\n\u001b[0m\u001b[0;32m      4\u001b[0m \u001b[0mprint\u001b[0m\u001b[1;33m(\u001b[0m\u001b[0mmix_fruits\u001b[0m\u001b[1;33m)\u001b[0m\u001b[1;33m\u001b[0m\u001b[1;33m\u001b[0m\u001b[0m\n",
      "\u001b[1;31mKeyError\u001b[0m: 'Fig'"
     ]
    }
   ],
   "source": [
    "mix_fruits.discard('Fig')\n",
    "print(mix_fruits)\n",
    "mix_fruits.remove('Fig')\n",
    "print(mix_fruits)"
   ]
  },
  {
   "cell_type": "code",
   "execution_count": 36,
   "id": "9fa0ddd3",
   "metadata": {},
   "outputs": [
    {
     "data": {
      "text/plain": [
       "{19, 20, 22, 24, 25, 26, 27, 28}"
      ]
     },
     "execution_count": 36,
     "metadata": {},
     "output_type": "execute_result"
    }
   ],
   "source": [
    "A = {19, 22, 24, 20, 25, 26}\n",
    "B = {19, 22, 20, 25, 26, 24, 28, 27}\n",
    "A.union(B)"
   ]
  },
  {
   "cell_type": "code",
   "execution_count": 37,
   "id": "5481515b",
   "metadata": {},
   "outputs": [
    {
     "data": {
      "text/plain": [
       "{19, 20, 22, 24, 25, 26}"
      ]
     },
     "execution_count": 37,
     "metadata": {},
     "output_type": "execute_result"
    }
   ],
   "source": [
    "A.intersection(B)"
   ]
  },
  {
   "cell_type": "code",
   "execution_count": 39,
   "id": "1398d6e1",
   "metadata": {},
   "outputs": [
    {
     "data": {
      "text/plain": [
       "True"
      ]
     },
     "execution_count": 39,
     "metadata": {},
     "output_type": "execute_result"
    }
   ],
   "source": [
    "A.issubset(B)"
   ]
  },
  {
   "cell_type": "code",
   "execution_count": 42,
   "id": "37c432f4",
   "metadata": {},
   "outputs": [
    {
     "data": {
      "text/plain": [
       "False"
      ]
     },
     "execution_count": 42,
     "metadata": {},
     "output_type": "execute_result"
    }
   ],
   "source": [
    "A.isdisjoint(B)"
   ]
  },
  {
   "cell_type": "code",
   "execution_count": 44,
   "id": "cafae8db",
   "metadata": {},
   "outputs": [
    {
     "data": {
      "text/plain": [
       "{19, 20, 22, 24, 25, 26, 27, 28}"
      ]
     },
     "execution_count": 44,
     "metadata": {},
     "output_type": "execute_result"
    }
   ],
   "source": [
    "A.union(B)\n",
    "B.union(A)"
   ]
  },
  {
   "cell_type": "code",
   "execution_count": 46,
   "id": "30abb321",
   "metadata": {},
   "outputs": [
    {
     "data": {
      "text/plain": [
       "{27, 28}"
      ]
     },
     "execution_count": 46,
     "metadata": {},
     "output_type": "execute_result"
    }
   ],
   "source": [
    "A.symmetric_difference(B)"
   ]
  },
  {
   "cell_type": "code",
   "execution_count": 47,
   "id": "8129c3fc",
   "metadata": {},
   "outputs": [
    {
     "name": "stdout",
     "output_type": "stream",
     "text": [
      "set()\n",
      "set()\n"
     ]
    }
   ],
   "source": [
    "A.clear()\n",
    "B.clear()\n",
    "print(A)\n",
    "print(B)"
   ]
  },
  {
   "cell_type": "code",
   "execution_count": 48,
   "id": "e2dbc8c0",
   "metadata": {},
   "outputs": [
    {
     "name": "stdout",
     "output_type": "stream",
     "text": [
      "{19, 22, 24, 25, 26} <class 'set'>\n"
     ]
    }
   ],
   "source": [
    "num = [22, 19, 24, 25, 26, 24, 25, 24]\n",
    "numset = set(num)\n",
    "print(numset, type(numset))"
   ]
  },
  {
   "cell_type": "code",
   "execution_count": 51,
   "id": "4a94c035",
   "metadata": {},
   "outputs": [
    {
     "name": "stdout",
     "output_type": "stream",
     "text": [
      "True\n",
      "False\n",
      "False\n"
     ]
    }
   ],
   "source": [
    "print(len(num) > len(numset))\n",
    "print(len(num) < len(numset))\n",
    "print(len(num)==len(numset))"
   ]
  },
  {
   "cell_type": "code",
   "execution_count": 52,
   "id": "49190cdc",
   "metadata": {},
   "outputs": [],
   "source": [
    "# The list can be changged, the string, tuple and sets cannot be changged. \n",
    "# The string donot use any brackets, list use [], tuple use (), sets ues{} "
   ]
  },
  {
   "cell_type": "code",
   "execution_count": 57,
   "id": "8337d2de",
   "metadata": {
    "scrolled": true
   },
   "outputs": [
    {
     "name": "stdout",
     "output_type": "stream",
     "text": [
      "{'am', 'to', 'teach', 'people', 'inspire', 'love', 'cum', 'and', 'researcher', 'teacher', 'I', 'a'}\n",
      "12\n"
     ]
    }
   ],
   "source": [
    "sentence = 'I am a researcher cum teacher and I love to inspire and teach people';\n",
    "set1 = set(sentence.split())\n",
    "print(set1)\n",
    "print(len(set1))"
   ]
  },
  {
   "cell_type": "code",
   "execution_count": null,
   "id": "553bcfc6",
   "metadata": {},
   "outputs": [],
   "source": []
  }
 ],
 "metadata": {
  "kernelspec": {
   "display_name": "Python 3",
   "language": "python",
   "name": "python3"
  },
  "language_info": {
   "codemirror_mode": {
    "name": "ipython",
    "version": 3
   },
   "file_extension": ".py",
   "mimetype": "text/x-python",
   "name": "python",
   "nbconvert_exporter": "python",
   "pygments_lexer": "ipython3",
   "version": "3.8.8"
  }
 },
 "nbformat": 4,
 "nbformat_minor": 5
}
